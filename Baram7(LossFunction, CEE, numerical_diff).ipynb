{
 "cells": [
  {
   "cell_type": "code",
   "execution_count": 1,
   "metadata": {},
   "outputs": [
    {
     "data": {
      "text/plain": [
       "<Figure size 640x480 with 1 Axes>"
      ]
     },
     "metadata": {},
     "output_type": "display_data"
    }
   ],
   "source": [
    "#잘못된 수치미분 코드의 예\n",
    "#h 값이 지나치게 작음 (프로그램에서 처리하기 곤란)\n",
    "\n",
    "def numerical_diff_nu(f, x):\n",
    "    h = 1e-50 #0.000000000000000000000000000000000000000000000000000001\n",
    "    return (f(x+h) - f(x))/h\n",
    "\n",
    "#수치미분 코드\n",
    "#h 값을 프로그램에서 처리할 수 있을 정도로 크게하고\n",
    "#에러보정을 위해 f(x+h) - f(x-h) /2h 를 사용\n",
    "\n",
    "def numerical_diff(f,x):\n",
    "    h = 1e-4 # 0.0001\n",
    "    return (f(x+h)-f(x-h))/(2*h)\n",
    "\n",
    "def function_1(x):\n",
    "    return 0.01*x**2 + 0.1*x\n",
    "    #f'(x) = 0.02x + 0.1 (미분한 값)\n",
    "\n",
    "import numpy as np\n",
    "import matplotlib.pylab as plt\n",
    "\n",
    "x = np.arange(0.0, 20.0, 0.1)\n",
    "y = function_1(x)\n",
    "plt.xlabel(\"x\")\n",
    "plt.ylabel(\"f(x)\")\n",
    "plt.plot(x,y)\n",
    "plt.show()"
   ]
  },
  {
   "cell_type": "code",
   "execution_count": 4,
   "metadata": {},
   "outputs": [
    {
     "name": "stdout",
     "output_type": "stream",
     "text": [
      "0.1999999999990898 0.2999999999986347\n",
      "0.0 0.0\n"
     ]
    }
   ],
   "source": [
    "g1 = numerical_diff(function_1, 5)\n",
    "g2 = numerical_diff(function_1, 10)\n",
    "print(g1,g2)\n",
    "\n",
    "d1 = numerical_diff_nu(function_1, 5)\n",
    "d2 = numerical_diff_nu(function_1, 10)\n",
    "print(d1,d2)"
   ]
  },
  {
   "cell_type": "code",
   "execution_count": 7,
   "metadata": {},
   "outputs": [
    {
     "name": "stdout",
     "output_type": "stream",
     "text": [
      "5 0.75 5.001 0.7502000100000001\n"
     ]
    }
   ],
   "source": [
    "x = np.arange(0.0, 20.0, 0.1)\n",
    "\n",
    "x1 = 5\n",
    "x2 = x1 + 0.001\n",
    "a = numerical_diff(function_1, 5)\n",
    "y1 = function_1(x1)\n",
    "y2 = function_1(x2)\n",
    "\n",
    "print(x1, y1, x2, y2)\n"
   ]
  },
  {
   "cell_type": "code",
   "execution_count": null,
   "metadata": {},
   "outputs": [],
   "source": []
  }
 ],
 "metadata": {
  "kernelspec": {
   "display_name": "Python 3",
   "language": "python",
   "name": "python3"
  },
  "language_info": {
   "codemirror_mode": {
    "name": "ipython",
    "version": 3
   },
   "file_extension": ".py",
   "mimetype": "text/x-python",
   "name": "python",
   "nbconvert_exporter": "python",
   "pygments_lexer": "ipython3",
   "version": "3.7.4"
  }
 },
 "nbformat": 4,
 "nbformat_minor": 2
}
