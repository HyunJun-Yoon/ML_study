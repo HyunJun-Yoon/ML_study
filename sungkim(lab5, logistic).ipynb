{
 "cells": [
  {
   "cell_type": "code",
   "execution_count": 2,
   "metadata": {},
   "outputs": [],
   "source": [
    "import numpy as np\n",
    "import tensorflow.compat.v1 as tf #downgrade tensorflow to 1.0\n",
    "tf.disable_v2_behavior()"
   ]
  },
  {
   "cell_type": "code",
   "execution_count": 13,
   "metadata": {},
   "outputs": [],
   "source": [
    "x_data = [[1,2], [2,3], [3,1], [4,3], [5,3], [6,2]]\n",
    "y_data = [[0],[0],[0],[1],[1],[1]]\n",
    "\n",
    "X = tf.placeholder(tf.float32, shape=[None, 2])\n",
    "Y = tf.placeholder(tf.float32, shape=[None, 1])\n",
    "W = tf.Variable(tf.random_normal([2, 1]), name='weight')\n",
    "b = tf.Variable(tf.random_normal([1]), name='bias')"
   ]
  },
  {
   "cell_type": "code",
   "execution_count": 14,
   "metadata": {},
   "outputs": [],
   "source": [
    "#Hypothesis using sigmoid: tf.div(1., 1. + tf.exp(tf.matmul(X, W) + b))\n",
    "hypothesis = tf.sigmoid(tf.matmul(X, W) + b)"
   ]
  },
  {
   "cell_type": "code",
   "execution_count": 15,
   "metadata": {},
   "outputs": [],
   "source": [
    "#cost/loss function\n",
    "cost = -tf.reduce_mean(Y * tf.log(hypothesis) + (1 - Y) * tf.log(1-hypothesis))"
   ]
  },
  {
   "cell_type": "code",
   "execution_count": 16,
   "metadata": {},
   "outputs": [],
   "source": [
    "train = tf.train.GradientDescentOptimizer(learning_rate=0.01).minimize(cost)"
   ]
  },
  {
   "cell_type": "code",
   "execution_count": 17,
   "metadata": {},
   "outputs": [],
   "source": [
    "#Accuracy computation\n",
    "#True if hypothesis > 0.5 else false"
   ]
  },
  {
   "cell_type": "code",
   "execution_count": 18,
   "metadata": {},
   "outputs": [],
   "source": [
    "predicted = tf.cast(hypothesis > 0.5, dtype=tf.float32)"
   ]
  },
  {
   "cell_type": "code",
   "execution_count": 19,
   "metadata": {},
   "outputs": [],
   "source": [
    "accuracy = tf.reduce_mean(tf.cast(tf.equal(predicted, Y), dtype=tf.float32))"
   ]
  },
  {
   "cell_type": "code",
   "execution_count": 20,
   "metadata": {},
   "outputs": [
    {
     "name": "stdout",
     "output_type": "stream",
     "text": [
      "0 3.3590152\n",
      "200 0.54040104\n",
      "400 0.41414163\n",
      "600 0.36096287\n",
      "800 0.33326098\n",
      "1000 0.3158127\n",
      "1200 0.30306846\n",
      "1400 0.2927491\n",
      "1600 0.2838224\n",
      "1800 0.27578238\n",
      "2000 0.2683646\n",
      "2200 0.26142195\n",
      "2400 0.25486735\n",
      "2600 0.24864584\n",
      "2800 0.24272029\n",
      "3000 0.23706354\n",
      "3200 0.23165475\n",
      "3400 0.22647674\n",
      "3600 0.22151478\n",
      "3800 0.21675591\n",
      "4000 0.21218841\n",
      "4200 0.20780176\n",
      "4400 0.20358604\n",
      "4600 0.19953209\n",
      "4800 0.19563128\n",
      "5000 0.19187593\n",
      "5200 0.18825822\n",
      "5400 0.1847713\n",
      "5600 0.18140869\n",
      "5800 0.17816412\n",
      "6000 0.17503186\n",
      "6200 0.17200641\n",
      "6400 0.16908269\n",
      "6600 0.16625585\n",
      "6800 0.16352129\n",
      "7000 0.16087495\n",
      "7200 0.15831257\n",
      "7400 0.15583043\n",
      "7600 0.15342493\n",
      "7800 0.1510927\n",
      "8000 0.14883049\n",
      "8200 0.14663543\n",
      "8400 0.14450449\n",
      "8600 0.14243503\n",
      "8800 0.14042446\n",
      "9000 0.13847041\n",
      "9200 0.13657045\n",
      "9400 0.1347226\n",
      "9600 0.1329246\n",
      "9800 0.13117464\n",
      "10000 0.12947072\n",
      "\n",
      "Hypothesis:  [[0.02279068]\n",
      " [0.14643575]\n",
      " [0.26419917]\n",
      " [0.8006302 ]\n",
      " [0.9510503 ]\n",
      " [0.9840831 ]] \n",
      "Correct (Y):  [[0.]\n",
      " [0.]\n",
      " [0.]\n",
      " [1.]\n",
      " [1.]\n",
      " [1.]] \n",
      "Accuracy:  1.0\n"
     ]
    }
   ],
   "source": [
    "#launch graph\n",
    "with tf.Session() as sess:\n",
    "    #Initialize TensorFlow variables\n",
    "    sess.run(tf.global_variables_initializer())\n",
    "    \n",
    "    for step in range(10001):\n",
    "        cost_val, _ = sess.run([cost, train], feed_dict={X: x_data, Y: y_data})\n",
    "        if step % 200 == 0:\n",
    "            print(step, cost_val)\n",
    "    #Accuracy report\n",
    "    h, c, a = sess.run([hypothesis, predicted, accuracy], feed_dict={X: x_data, Y: y_data})\n",
    "    print(\"\\nHypothesis: \", h, \"\\nCorrect (Y): \", c, \"\\nAccuracy: \", a)"
   ]
  },
  {
   "cell_type": "code",
   "execution_count": null,
   "metadata": {},
   "outputs": [],
   "source": []
  }
 ],
 "metadata": {
  "kernelspec": {
   "display_name": "Python 3",
   "language": "python",
   "name": "python3"
  },
  "language_info": {
   "codemirror_mode": {
    "name": "ipython",
    "version": 3
   },
   "file_extension": ".py",
   "mimetype": "text/x-python",
   "name": "python",
   "nbconvert_exporter": "python",
   "pygments_lexer": "ipython3",
   "version": "3.7.4"
  }
 },
 "nbformat": 4,
 "nbformat_minor": 2
}
